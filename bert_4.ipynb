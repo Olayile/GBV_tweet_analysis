{
  "nbformat": 4,
  "nbformat_minor": 0,
  "metadata": {
    "orig_nbformat": 4,
    "language_info": {
      "name": "python",
      "version": "3.8.11-final"
    },
    "kernelspec": {
      "name": "python381164bit3811036c11fb778d4a4989c2af92fe31ba14",
      "display_name": "Python 3.8.11 64-bit ('3.8.11')"
    },
    "colab": {
      "name": "bert_4.ipynb",
      "provenance": []
    },
    "accelerator": "GPU"
  },
  "cells": [
    {
      "cell_type": "code",
      "metadata": {
        "id": "H-fRy9mCWqxM"
      },
      "source": [
        "!pip install ktrain"
      ],
      "execution_count": null,
      "outputs": []
    },
    {
      "cell_type": "code",
      "metadata": {
        "id": "-LpSIbRsWknL"
      },
      "source": [
        "import ktrain\n",
        "from ktrain import text\n",
        "import pandas as pd\n",
        "from sklearn.model_selection import train_test_split"
      ],
      "execution_count": null,
      "outputs": []
    },
    {
      "cell_type": "code",
      "metadata": {
        "id": "WhWIET6sWknO"
      },
      "source": [
        "MODEL_NAME = 'albert-base-v2'\n",
        "t = text.Transformer(MODEL_NAME, maxlen= 120, classes= ['sexual_violence', 'Physical_violence', 'emotional_violence',\n",
        "       'Harmful_Traditional_practice', 'economic_violence'])"
      ],
      "execution_count": null,
      "outputs": []
    },
    {
      "cell_type": "code",
      "metadata": {
        "id": "Z9W-tiEL2KPA"
      },
      "source": [
        "train_df = pd.read_csv(\"/content/Train.csv\")\n",
        "random_seed = 12342\n",
        "x_train, x_val, y_train, y_val = train_test_split(train_df['tweet'], \n",
        "train_df['type'], shuffle=True, test_size = 0.2, random_state=random_seed, stratify=train_df['type'])"
      ],
      "execution_count": null,
      "outputs": []
    },
    {
      "cell_type": "code",
      "metadata": {
        "id": "XRIHUfORJzfl"
      },
      "source": [
        "\n",
        "import re\n",
        "def text_preprocessing(text):\n",
        "    \"\"\"\n",
        "    - Remove entity mentions (eg. '@united')\n",
        "    - Correct errors (eg. '&amp;' to '&')\n",
        "    @param    text (str): a string to be processed.\n",
        "    @return   text (Str): the processed string.\n",
        "    \"\"\"\n",
        "    # Remove '@name'\n",
        "    text = re.sub(r'(@.*?)[\\s]', ' ', text)\n",
        "\n",
        "    # Replace '&amp;' with '&'\n",
        "    text = re.sub(r'&amp;', '&', text)\n",
        "\n",
        "    # Remove trailing whitespace\n",
        "    text = re.sub(r'\\s+', ' ', text).strip()\n",
        "\n",
        "    return text"
      ],
      "execution_count": null,
      "outputs": []
    },
    {
      "cell_type": "code",
      "metadata": {
        "id": "vhM6gGtjJ1I9"
      },
      "source": [
        "train_df.tweet.apply(text_preprocessing)"
      ],
      "execution_count": null,
      "outputs": []
    },
    {
      "cell_type": "code",
      "metadata": {
        "id": "rvpq2_1K2NKj"
      },
      "source": [
        "trn = t.preprocess_train(numpy.array(x_train), numpy.array(y_train))\n",
        "val = t.preprocess_test(numpy.array(x_val), numpy.array(y_val))\n"
      ],
      "execution_count": null,
      "outputs": []
    },
    {
      "cell_type": "code",
      "metadata": {
        "id": "bHrM1lTS24vH"
      },
      "source": [
        "model = t.get_classifier()\n",
        "learner = ktrain.get_learner(model, train_data= trn, val_data= val, batch_size=6)"
      ],
      "execution_count": null,
      "outputs": []
    },
    {
      "cell_type": "code",
      "metadata": {
        "id": "LW9SCdZQ3oKy"
      },
      "source": [
        "learner.autofit(1e-5)"
      ],
      "execution_count": null,
      "outputs": []
    },
    {
      "cell_type": "code",
      "metadata": {
        "id": "1xlAR_KJ-p9e"
      },
      "source": [
        "predictor = ktrain.get_predictor(learner.model, t)"
      ],
      "execution_count": null,
      "outputs": []
    },
    {
      "cell_type": "code",
      "metadata": {
        "id": "FcfJl9eEWknQ"
      },
      "source": [
        "import numpy"
      ],
      "execution_count": null,
      "outputs": []
    },
    {
      "cell_type": "code",
      "metadata": {
        "id": "NT9HsSdQWknR"
      },
      "source": [
        "(x_train_bert, y_train_bert), (x_val_bert, y_val_bert), prepoc = text.texts_from_array(x_train=numpy.array(x_train), y_train=numpy.array(y_train), x_test= numpy.array(x_val), y_test=numpy.array(y_val),\n",
        "                                          class_names=['sexual_violence', 'Physical_violence', 'emotional_violence',\n",
        "       'Harmful_Traditional_practice', 'economic_violence'],\n",
        "                                          preprocess_mode='bert',\n",
        "                                          lang= 'en',\n",
        "                                          maxlen=200,\n",
        "                                          max_features= 35000)"
      ],
      "execution_count": null,
      "outputs": []
    },
    {
      "cell_type": "code",
      "metadata": {
        "id": "3n9gTsbLWknS"
      },
      "source": [
        "model = text.text_classifier('bert', train_data=(x_train_bert, y_train_bert), preproc=prepoc)\n",
        "learner = ktrain.get_learner(model, train_data=(x_train_bert, y_train_bert), val_data=(x_val_bert, y_val_bert), batch_size=16)"
      ],
      "execution_count": null,
      "outputs": []
    },
    {
      "cell_type": "code",
      "metadata": {
        "id": "L9ods_L7WknT"
      },
      "source": [
        "learner.autofit(1e-5)"
      ],
      "execution_count": null,
      "outputs": []
    },
    {
      "cell_type": "code",
      "metadata": {
        "id": "x-vN7amXWknT"
      },
      "source": [
        "predictor = ktrain.get_predictor(learner.model, prepoc)\n",
        "\n"
      ],
      "execution_count": null,
      "outputs": []
    },
    {
      "cell_type": "code",
      "metadata": {
        "id": "ErT2RhXsdTKs"
      },
      "source": [
        "test_df = pd.read_csv(\"/content/Test.csv\")"
      ],
      "execution_count": null,
      "outputs": []
    },
    {
      "cell_type": "code",
      "metadata": {
        "id": "AmKSNZn7e7sV"
      },
      "source": [
        "sample_submission = pd.read_csv(\"/content/SampleSubmission.csv\")"
      ],
      "execution_count": null,
      "outputs": []
    },
    {
      "cell_type": "code",
      "metadata": {
        "id": "hWhs2IyrfFdu"
      },
      "source": [
        "sample_submission[\"type\"] = predictor.predict(test_df.tweet.to_list())"
      ],
      "execution_count": null,
      "outputs": []
    },
    {
      "cell_type": "code",
      "metadata": {
        "id": "mc6O7NkxuCQ1"
      },
      "source": [
        "sample_submission"
      ],
      "execution_count": null,
      "outputs": []
    },
    {
      "cell_type": "code",
      "metadata": {
        "id": "DtaXmrtIf2rK"
      },
      "source": [
        "sample_submission.to_csv('bert.csv', index=False)"
      ],
      "execution_count": null,
      "outputs": []
    },
    {
      "cell_type": "code",
      "metadata": {
        "id": "s33hEqOjuOpa"
      },
      "source": [
        "from google.colab import drive\n",
        "drive.mount('/content/drive')"
      ],
      "execution_count": null,
      "outputs": []
    },
    {
      "cell_type": "code",
      "metadata": {
        "id": "_nZ5QNPhuVfy"
      },
      "source": [
        "sample_submission.to_csv('/content/drive/MyDrive/Data_sendy/bert.csv')"
      ],
      "execution_count": null,
      "outputs": []
    },
    {
      "cell_type": "markdown",
      "metadata": {
        "id": "jX8G_eEaWknU"
      },
      "source": [
        "1"
      ]
    }
  ]
}