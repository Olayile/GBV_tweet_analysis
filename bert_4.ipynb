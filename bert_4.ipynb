{
 "cells": [
  {
   "cell_type": "code",
   "execution_count": null,
   "source": [
    "import ktrain\n",
    "from ktrain import text\n",
    "import pandas as pd\n",
    "from sklearn.model_selection import train_test_split"
   ],
   "outputs": [],
   "metadata": {}
  },
  {
   "cell_type": "code",
   "execution_count": null,
   "source": [
    "train_df = pd.read_csv(\"/Users/olayile/GBV_tweet_analysis/gender-based-violence-tweet-classification/Train.csv\")\n",
    "random_seed = 12342\n",
    "x_train, x_val, y_train, y_val = train_test_split(train_df['tweet'], \n",
    "train_df['type'], shuffle=True, test_size = 0.2, random_state=random_seed, stratify=train_df['type'])"
   ],
   "outputs": [],
   "metadata": {}
  },
  {
   "cell_type": "code",
   "execution_count": null,
   "source": [
    "(x_train_bert, y_train_bert), (x_val_bert, y_val_bert), prepoc = text.texts_from_array(x_train=x_train, y_train=y_train,\n",
    "                                          x_test=x_val, y_test=y_val,\n",
    "                                          class_names=['sexual_violence', 'Physical_violence', 'emotional_violence',\n",
    "       'Harmful_Traditional_practice', 'economic_violence'],\n",
    "                                          preprocess_mode='bert',\n",
    "                                          lang= 'en'\n",
    "                                          maxlen=110,\n",
    "                                          max_features= 35000)"
   ],
   "outputs": [],
   "metadata": {}
  },
  {
   "cell_type": "markdown",
   "source": [
    "1"
   ],
   "metadata": {}
  }
 ],
 "metadata": {
  "orig_nbformat": 4,
  "language_info": {
   "name": "python"
  }
 },
 "nbformat": 4,
 "nbformat_minor": 2
}